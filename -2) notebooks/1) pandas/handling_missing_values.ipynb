{
 "cells": [
  {
   "cell_type": "markdown",
   "metadata": {},
   "source": [
    "# Handling Missing Values in Pandas (Detailed)\n",
    "\n",
    "Missing data can affect analysis. In this notebook, we will cover:\n",
    "\n",
    "- Identifying missing values\n",
    "- Removing missing values\n",
    "- Filling missing values using various strategies\n",
    "- Advanced methods like interpolation and forward fill\n"
   ]
  },
  {
   "cell_type": "code",
   "execution_count": 1,
   "metadata": {},
   "outputs": [
    {
     "name": "stdout",
     "output_type": "stream",
     "text": [
      "Original DataFrame:\n",
      "     A    B    C\n",
      "0  1.0  NaN  1.0\n",
      "1  2.0  2.0  NaN\n",
      "2  NaN  3.0  NaN\n",
      "3  4.0  NaN  4.0\n",
      "4  5.0  5.0  5.0\n"
     ]
    }
   ],
   "source": [
    "import pandas as pd\n",
    "import numpy as np\n",
    "\n",
    "# Create a sample DataFrame with missing values\n",
    "data = {\n",
    "    'A': [1, 2, np.nan, 4, 5],\n",
    "    'B': [np.nan, 2, 3, np.nan, 5],\n",
    "    'C': [1, np.nan, np.nan, 4, 5]\n",
    "}\n",
    "df = pd.DataFrame(data)\n",
    "print('Original DataFrame:')\n",
    "print(df)"
   ]
  },
  {
   "cell_type": "markdown",
   "metadata": {},
   "source": [
    "### Identifying Missing Values\n",
    "\n",
    "Use `isnull()`, `sum()`, or `info()` to get an overview of missing data.\n"
   ]
  },
  {
   "cell_type": "code",
   "execution_count": 3,
   "metadata": {},
   "outputs": [
    {
     "name": "stdout",
     "output_type": "stream",
     "text": [
      "\n",
      "Missing values (isnull):\n",
      "       A      B      C\n",
      "0  False   True  False\n",
      "1  False  False   True\n",
      "2   True  False   True\n",
      "3  False   True  False\n",
      "4  False  False  False\n",
      "\n",
      "Count of missing values per column:\n",
      "A    1\n",
      "B    2\n",
      "C    2\n",
      "dtype: int64\n",
      "\n",
      "DataFrame info:\n",
      "<class 'pandas.core.frame.DataFrame'>\n",
      "RangeIndex: 5 entries, 0 to 4\n",
      "Data columns (total 3 columns):\n",
      " #   Column  Non-Null Count  Dtype  \n",
      "---  ------  --------------  -----  \n",
      " 0   A       4 non-null      float64\n",
      " 1   B       3 non-null      float64\n",
      " 2   C       3 non-null      float64\n",
      "dtypes: float64(3)\n",
      "memory usage: 252.0 bytes\n"
     ]
    }
   ],
   "source": [
    "print('\\nMissing values (isnull):')\n",
    "print(df.isnull())\n",
    "\n",
    "print('\\nCount of missing values per column:')\n",
    "print(df.isnull().sum())\n",
    "\n",
    "print('\\nDataFrame info:')\n",
    "df.info()"
   ]
  },
  {
   "cell_type": "markdown",
   "metadata": {},
   "source": [
    "### Removing Missing Values\n",
    "\n",
    "Use `dropna()` to remove rows or columns with missing values. Be cautious as this might remove useful data.\n"
   ]
  },
  {
   "cell_type": "code",
   "execution_count": 2,
   "metadata": {},
   "outputs": [
    {
     "name": "stdout",
     "output_type": "stream",
     "text": [
      "\n",
      "DataFrame after dropna():\n",
      "     A    B    C\n",
      "4  5.0  5.0  5.0\n"
     ]
    }
   ],
   "source": [
    "df_dropna = df.dropna()\n",
    "print('\\nDataFrame after dropna():')\n",
    "print(df_dropna)"
   ]
  },
  {
   "cell_type": "markdown",
   "metadata": {},
   "source": [
    "### Filling Missing Values\n",
    "\n",
    "There are several strategies:\n",
    "\n",
    "- **Constant value:** Use `fillna(0)`\n",
    "- **Column mean:** Use `fillna(df.mean())`\n",
    "- **Forward fill:** Use `fillna(method='ffill')`\n",
    "- **Interpolation:** Use `interpolate()` for continuous data\n"
   ]
  },
  {
   "cell_type": "code",
   "execution_count": 3,
   "metadata": {},
   "outputs": [
    {
     "name": "stdout",
     "output_type": "stream",
     "text": [
      "\n",
      "DataFrame after fillna(0):\n",
      "     A    B    C\n",
      "0  1.0  0.0  1.0\n",
      "1  2.0  2.0  0.0\n",
      "2  0.0  3.0  0.0\n",
      "3  4.0  0.0  4.0\n",
      "4  5.0  5.0  5.0\n",
      "\n",
      "DataFrame after filling with mean:\n",
      "     A         B         C\n",
      "0  1.0  3.333333  1.000000\n",
      "1  2.0  2.000000  3.333333\n",
      "2  3.0  3.000000  3.333333\n",
      "3  4.0  3.333333  4.000000\n",
      "4  5.0  5.000000  5.000000\n",
      "\n",
      "DataFrame after forward fill:\n",
      "     A    B    C\n",
      "0  1.0  NaN  1.0\n",
      "1  2.0  2.0  1.0\n",
      "2  2.0  3.0  1.0\n",
      "3  4.0  3.0  4.0\n",
      "4  5.0  5.0  5.0\n",
      "\n",
      "DataFrame after interpolation:\n",
      "     A    B    C\n",
      "0  1.0  NaN  1.0\n",
      "1  2.0  2.0  2.0\n",
      "2  3.0  3.0  3.0\n",
      "3  4.0  4.0  4.0\n",
      "4  5.0  5.0  5.0\n"
     ]
    },
    {
     "name": "stderr",
     "output_type": "stream",
     "text": [
      "C:\\Users\\risha\\AppData\\Local\\Temp\\ipykernel_15196\\2783224362.py:12: FutureWarning: DataFrame.fillna with 'method' is deprecated and will raise in a future version. Use obj.ffill() or obj.bfill() instead.\n",
      "  df_ffill = df.fillna(method='ffill')\n"
     ]
    }
   ],
   "source": [
    "# Fill with a constant value\n",
    "df_fill_const = df.fillna(0)\n",
    "print('\\nDataFrame after fillna(0):')\n",
    "print(df_fill_const)\n",
    "\n",
    "# Fill with the column mean\n",
    "df_fill_mean = df.fillna(df.mean())\n",
    "print('\\nDataFrame after filling with mean:')\n",
    "print(df_fill_mean)\n",
    "\n",
    "# Forward fill\n",
    "df_ffill = df.fillna(method='ffill')\n",
    "print('\\nDataFrame after forward fill:')\n",
    "print(df_ffill)\n",
    "\n",
    "# Interpolation\n",
    "df_interp = df.interpolate()\n",
    "print('\\nDataFrame after interpolation:')\n",
    "print(df_interp)"
   ]
  },
  {
   "cell_type": "markdown",
   "metadata": {},
   "source": [
    "### Summary\n",
    "\n",
    "Choose the method based on your data. Dropping data loses information; filling data preserves it but might introduce bias.\n"
   ]
  }
 ],
 "metadata": {
  "kernelspec": {
   "display_name": "Python 3",
   "language": "python",
   "name": "python3"
  },
  "language_info": {
   "codemirror_mode": {
    "name": "ipython",
    "version": 3
   },
   "file_extension": ".py",
   "mimetype": "text/x-python",
   "name": "python",
   "nbconvert_exporter": "python",
   "pygments_lexer": "ipython3",
   "version": "3.12.1"
  }
 },
 "nbformat": 4,
 "nbformat_minor": 2
}
