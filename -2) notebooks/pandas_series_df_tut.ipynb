{
  "nbformat": 4,
  "nbformat_minor": 0,
  "metadata": {
    "colab": {
      "provenance": [],
      "authorship_tag": "ABX9TyPnzVW3VeAI2sZzjOFKQzFO",
      "include_colab_link": true
    },
    "kernelspec": {
      "name": "python3",
      "display_name": "Python 3"
    },
    "language_info": {
      "name": "python"
    }
  },
  "cells": [
    {
      "cell_type": "markdown",
      "metadata": {
        "id": "view-in-github",
        "colab_type": "text"
      },
      "source": [
        "<a href=\"https://colab.research.google.com/github/Rishabh7406/tut-codes/blob/main/-2)%20notebooks/pandas_series_df_tut.ipynb\" target=\"_parent\"><img src=\"https://colab.research.google.com/assets/colab-badge.svg\" alt=\"Open In Colab\"/></a>"
      ]
    },
    {
      "cell_type": "code",
      "execution_count": 10,
      "metadata": {
        "colab": {
          "base_uri": "https://localhost:8080/"
        },
        "collapsed": true,
        "id": "74aERknum9dS",
        "outputId": "56c9e02a-3a9c-4561-e0ac-45d7497601ce"
      },
      "outputs": [
        {
          "output_type": "stream",
          "name": "stdout",
          "text": [
            "Requirement already satisfied: pandas in /usr/local/lib/python3.11/dist-packages (2.2.2)\n",
            "Requirement already satisfied: numpy in /usr/local/lib/python3.11/dist-packages (1.26.4)\n",
            "Requirement already satisfied: python-dateutil>=2.8.2 in /usr/local/lib/python3.11/dist-packages (from pandas) (2.8.2)\n",
            "Requirement already satisfied: pytz>=2020.1 in /usr/local/lib/python3.11/dist-packages (from pandas) (2025.1)\n",
            "Requirement already satisfied: tzdata>=2022.7 in /usr/local/lib/python3.11/dist-packages (from pandas) (2025.1)\n",
            "Requirement already satisfied: six>=1.5 in /usr/local/lib/python3.11/dist-packages (from python-dateutil>=2.8.2->pandas) (1.17.0)\n"
          ]
        }
      ],
      "source": [
        "# Install Pandas (if not already installed)\n",
        "!pip install pandas numpy  # Not needed in Google Colab"
      ]
    },
    {
      "cell_type": "code",
      "source": [
        "# Importing necessary libraries\n",
        "import pandas as pd\n",
        "import numpy as np"
      ],
      "metadata": {
        "id": "hvYSCU5RnmS5"
      },
      "execution_count": 11,
      "outputs": []
    },
    {
      "cell_type": "markdown",
      "source": [
        "### Creating a Pandas Series ###"
      ],
      "metadata": {
        "id": "bW-j1RCMob8v"
      }
    },
    {
      "cell_type": "code",
      "source": [
        "# 1. From a List\n",
        "data = [10, 20, 30, 40]\n",
        "s1 = pd.Series(data)\n",
        "print(\"Series from List:\")\n",
        "print(s1)"
      ],
      "metadata": {
        "colab": {
          "base_uri": "https://localhost:8080/"
        },
        "id": "fEHlCqBMnnzI",
        "outputId": "06d3b9e3-f6d2-4c9e-ff46-539683d9d6ed"
      },
      "execution_count": 12,
      "outputs": [
        {
          "output_type": "stream",
          "name": "stdout",
          "text": [
            "Series from List:\n",
            "0    10\n",
            "1    20\n",
            "2    30\n",
            "3    40\n",
            "dtype: int64\n"
          ]
        }
      ]
    },
    {
      "cell_type": "code",
      "source": [
        "# 2. From a NumPy Array\n",
        "arr = np.array([1, 2, 3, 4])\n",
        "s2 = pd.Series(arr)\n",
        "print(\"\\nSeries from NumPy Array:\")\n",
        "print(s2)"
      ],
      "metadata": {
        "colab": {
          "base_uri": "https://localhost:8080/"
        },
        "id": "v3d4UibsnpGo",
        "outputId": "e363723a-4dd8-4783-de9f-7cc516a629b7"
      },
      "execution_count": 13,
      "outputs": [
        {
          "output_type": "stream",
          "name": "stdout",
          "text": [
            "\n",
            "Series from NumPy Array:\n",
            "0    1\n",
            "1    2\n",
            "2    3\n",
            "3    4\n",
            "dtype: int64\n"
          ]
        }
      ]
    },
    {
      "cell_type": "code",
      "source": [
        "\n",
        "# 3. From a Dictionary\n",
        "data_dict = {'a': 100, 'b': 200, 'c': 300}\n",
        "s3 = pd.Series(data_dict)\n",
        "print(\"\\nSeries from Dictionary:\")\n",
        "print(s3)"
      ],
      "metadata": {
        "colab": {
          "base_uri": "https://localhost:8080/"
        },
        "id": "a95p5H-qnqbo",
        "outputId": "6d5e906d-dfa0-4b02-81ee-9e4f15129402"
      },
      "execution_count": 14,
      "outputs": [
        {
          "output_type": "stream",
          "name": "stdout",
          "text": [
            "\n",
            "Series from Dictionary:\n",
            "a    100\n",
            "b    200\n",
            "c    300\n",
            "dtype: int64\n"
          ]
        }
      ]
    },
    {
      "cell_type": "markdown",
      "source": [
        "### Creating a Pandas DataFrame ###\n"
      ],
      "metadata": {
        "id": "r95l8HcvoUp1"
      }
    },
    {
      "cell_type": "code",
      "source": [
        "\n",
        "# 1. From a Dictionary\n",
        "data_dict_df = {'Name': ['Alice', 'Bob'], 'Age': [25, 30]}\n",
        "df1 = pd.DataFrame(data_dict_df)\n",
        "print(\"\\nDataFrame from Dictionary:\")\n",
        "print(df1)\n"
      ],
      "metadata": {
        "colab": {
          "base_uri": "https://localhost:8080/"
        },
        "id": "BldoviQvns5C",
        "outputId": "5c939eab-068e-46cc-9dbf-8d2f342b3e2a"
      },
      "execution_count": 15,
      "outputs": [
        {
          "output_type": "stream",
          "name": "stdout",
          "text": [
            "\n",
            "DataFrame from Dictionary:\n",
            "    Name  Age\n",
            "0  Alice   25\n",
            "1    Bob   30\n"
          ]
        }
      ]
    },
    {
      "cell_type": "code",
      "source": [
        "# 2. From a List of Lists\n",
        "data_list = [['Alice', 25], ['Bob', 30]]\n",
        "df2 = pd.DataFrame(data_list, columns=['Name', 'Age'])\n",
        "print(\"\\nDataFrame from List of Lists:\")\n",
        "print(df2)\n"
      ],
      "metadata": {
        "colab": {
          "base_uri": "https://localhost:8080/"
        },
        "id": "roy0W6jhnuHS",
        "outputId": "fb6af2e0-8c84-4787-cd09-22e11d931699"
      },
      "execution_count": 16,
      "outputs": [
        {
          "output_type": "stream",
          "name": "stdout",
          "text": [
            "\n",
            "DataFrame from List of Lists:\n",
            "    Name  Age\n",
            "0  Alice   25\n",
            "1    Bob   30\n"
          ]
        }
      ]
    },
    {
      "cell_type": "code",
      "source": [
        "# 3. From a NumPy Array\n",
        "arr_2d = np.array([[1, 2], [3, 4]])\n",
        "df3 = pd.DataFrame(arr_2d, columns=['A', 'B'])\n",
        "print(\"\\nDataFrame from NumPy Array:\")\n",
        "print(df3)\n"
      ],
      "metadata": {
        "colab": {
          "base_uri": "https://localhost:8080/"
        },
        "id": "Br9N0XmpnvVw",
        "outputId": "1bd5b6a8-bce6-40a5-ff2c-30f60d7b0cc0"
      },
      "execution_count": 17,
      "outputs": [
        {
          "output_type": "stream",
          "name": "stdout",
          "text": [
            "\n",
            "DataFrame from NumPy Array:\n",
            "   A  B\n",
            "0  1  2\n",
            "1  3  4\n"
          ]
        }
      ]
    },
    {
      "cell_type": "code",
      "source": [
        "# Class Task: Create a DataFrame from a dictionary with custom column names!"
      ],
      "metadata": {
        "id": "8t0DDfWwnw7h"
      },
      "execution_count": 18,
      "outputs": []
    }
  ]
}